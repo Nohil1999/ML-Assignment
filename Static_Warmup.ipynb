{
  "nbformat": 4,
  "nbformat_minor": 0,
  "metadata": {
    "colab": {
      "name": "Static Warmup.ipynb",
      "version": "0.3.2",
      "provenance": [],
      "include_colab_link": true
    },
    "kernelspec": {
      "name": "python3",
      "display_name": "Python 3"
    }
  },
  "cells": [
    {
      "cell_type": "markdown",
      "metadata": {
        "id": "view-in-github",
        "colab_type": "text"
      },
      "source": [
        "<a href=\"https://colab.research.google.com/github/Nohil1999/ML-Assignment/blob/master/Static_Warmup.ipynb\" target=\"_parent\"><img src=\"https://colab.research.google.com/assets/colab-badge.svg\" alt=\"Open In Colab\"/></a>"
      ]
    },
    {
      "cell_type": "code",
      "metadata": {
        "id": "MpEIA_iHPAYp",
        "colab_type": "code",
        "colab": {
          "base_uri": "https://localhost:8080/",
          "height": 193
        },
        "outputId": "545cf5ab-437d-4e40-87d5-3e0e45ab14c4"
      },
      "source": [
        "import numpy as np\n",
        "from scipy import stats\n",
        "n=int(input())\n",
        "x=[int(input()) for i in range(n)]\n",
        "  \n",
        "print(np.mean(x))\n",
        "print(np.median(x))\n",
        "print(stats.mode(x))\n",
        "print(np.std(x))\n"
      ],
      "execution_count": 3,
      "outputs": [
        {
          "output_type": "stream",
          "text": [
            "5\n",
            "14\n",
            "13\n",
            "12\n",
            "18\n",
            "15\n",
            "14.4\n",
            "14.0\n",
            "ModeResult(mode=array([12]), count=array([1]))\n",
            "2.0591260281974\n"
          ],
          "name": "stdout"
        }
      ]
    }
  ]
}