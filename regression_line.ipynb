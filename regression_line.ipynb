{
  "nbformat": 4,
  "nbformat_minor": 0,
  "metadata": {
    "colab": {
      "name": "regression line.ipynb",
      "version": "0.3.2",
      "provenance": [],
      "include_colab_link": true
    },
    "kernelspec": {
      "name": "python3",
      "display_name": "Python 3"
    }
  },
  "cells": [
    {
      "cell_type": "markdown",
      "metadata": {
        "id": "view-in-github",
        "colab_type": "text"
      },
      "source": [
        "<a href=\"https://colab.research.google.com/github/Nohil1999/ML-Assignment/blob/master/regression_line.ipynb\" target=\"_parent\"><img src=\"https://colab.research.google.com/assets/colab-badge.svg\" alt=\"Open In Colab\"/></a>"
      ]
    },
    {
      "cell_type": "code",
      "metadata": {
        "id": "v4mo2hEeWCSx",
        "colab_type": "code",
        "colab": {
          "base_uri": "https://localhost:8080/",
          "height": 34
        },
        "outputId": "5fbb10a5-a595-4068-bf7e-dc1ec9e69055"
      },
      "source": [
        "from sklearn.linear_model import LinearRegression\n",
        "\n",
        "physics = [[15],[12],[8],[8],[7],[7],[7],[6],[5],[3]]\n",
        "\n",
        "history = [[10],[25],[17],[11],[13],[17],[20],[13],[9],[15]]\n",
        "\n",
        "model = LinearRegression()\n",
        "\n",
        "model.fit(physics,history)\n",
        "\n",
        "print('Predicted History score is %.2f' % model.predict([[10]]))"
      ],
      "execution_count": 1,
      "outputs": [
        {
          "output_type": "stream",
          "text": [
            "Predicted History score is 15.46\n"
          ],
          "name": "stdout"
        }
      ]
    }
  ]
}