{
  "nbformat": 4,
  "nbformat_minor": 0,
  "metadata": {
    "colab": {
      "name": "slope.ipynb",
      "version": "0.3.2",
      "provenance": [],
      "include_colab_link": true
    },
    "kernelspec": {
      "name": "python3",
      "display_name": "Python 3"
    }
  },
  "cells": [
    {
      "cell_type": "markdown",
      "metadata": {
        "id": "view-in-github",
        "colab_type": "text"
      },
      "source": [
        "<a href=\"https://colab.research.google.com/github/Nohil1999/ML-Assignment/blob/master/slope.ipynb\" target=\"_parent\"><img src=\"https://colab.research.google.com/assets/colab-badge.svg\" alt=\"Open In Colab\"/></a>"
      ]
    },
    {
      "cell_type": "code",
      "metadata": {
        "id": "V5vm72foF3cl",
        "colab_type": "code",
        "colab": {
          "base_uri": "https://localhost:8080/",
          "height": 34
        },
        "outputId": "320c92c4-ff2f-4e27-9f74-02834aec97bd"
      },
      "source": [
        "import numpy as np\n",
        "\n",
        "physics = [15,12,8,8,7,7,7,6,5,3]\n",
        "\n",
        "history = [10,25,17,11,13,17,20,13,9,15]\n",
        "\n",
        "std1 = np.std(physics)\n",
        "\n",
        "std2 = np.std(history)\n",
        "\n",
        "covar = np.cov(physics,history,bias=True)[0][1]\n",
        "\n",
        "r = covar/(std1*std2)\n",
        "\n",
        "slope = (r*std2)/std1\n",
        "print('%.3f' % slope)"
      ],
      "execution_count": 1,
      "outputs": [
        {
          "output_type": "stream",
          "text": [
            "0.208\n"
          ],
          "name": "stdout"
        }
      ]
    }
  ]
}